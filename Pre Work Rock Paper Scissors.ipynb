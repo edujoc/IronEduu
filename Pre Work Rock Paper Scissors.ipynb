{
 "cells": [
  {
   "cell_type": "code",
   "execution_count": null,
   "id": "54c526a2",
   "metadata": {},
   "outputs": [],
   "source": [
    "# Rock, Paper & Scissors\n",
    "# Let's play the famous game against our computer. You can check the rules here.\n",
    "\n",
    "# Task\n",
    "# Create a program that imitates the playability of the well known game of rock, paper, scissors. Follow the guidelines provided.\n",
    "\n",
    "Tools\n",
    "Loop: for/while\n",
    "Functions: input(), print()...\n",
    "Conditional statements: if, elif, else\n",
    "Definition of functions. Modular programming\n",
    "Import modules\n",
    "To solve this challenge, the use of functions is recommended.\n",
    "\n"
   ]
  },
  {
   "cell_type": "code",
   "execution_count": 1,
   "id": "516acad9",
   "metadata": {},
   "outputs": [
    {
     "ename": "IndentationError",
     "evalue": "unexpected indent (<ipython-input-1-14faf76b567c>, line 4)",
     "output_type": "error",
     "traceback": [
      "\u001b[0;36m  File \u001b[0;32m\"<ipython-input-1-14faf76b567c>\"\u001b[0;36m, line \u001b[0;32m4\u001b[0m\n\u001b[0;31m    First, player choose an opttion either rock or paper or scissors  sub problem 1\u001b[0m\n\u001b[0m    ^\u001b[0m\n\u001b[0;31mIndentationError\u001b[0m\u001b[0;31m:\u001b[0m unexpected indent\n"
     ]
    }
   ],
   "source": [
    "# 1. Import the choice function of the random module.¶\n",
    "\n",
    "### iterate over this number of time to be given (7) until rounds to win is 3 \n",
    "    First, player choose an opttion either rock or paper or scissors  sub problem 1\n",
    "    cpu should choose randomly choice   sub problem 2 \n",
    "    check who is the winner ?   sub problem 3\n",
    "    accumulate the winner score for each one of them  sub problem 4 \n",
    "    \n",
    "if player_accumulated> cpu_accumulated then  sub problem 5 \n",
    "        announce the player as a winnner"
   ]
  },
  {
   "cell_type": "code",
   "execution_count": null,
   "id": "ec90a741",
   "metadata": {},
   "outputs": [],
   "source": [
    "First, player choose an opttion either rock or paper or scissors  sub problem 1 \n",
    "\n",
    "\n",
    "take the user input \n",
    "input_value= Input (\"please choose a vaild input either rock or paper or scissors \")\n",
    "check if the input ois either rock or paper or scissos\n",
    "if(input_value in [\"rock\",\"paper\"])\n",
    "save it into a variable"
   ]
  },
  {
   "cell_type": "code",
   "execution_count": 2,
   "id": "5330280a",
   "metadata": {},
   "outputs": [],
   "source": [
    "from random import choice"
   ]
  },
  {
   "cell_type": "code",
   "execution_count": 3,
   "id": "bbf3d735",
   "metadata": {},
   "outputs": [
    {
     "data": {
      "text/plain": [
       "['rock', 'paper', 'scissors']"
      ]
     },
     "execution_count": 3,
     "metadata": {},
     "output_type": "execute_result"
    }
   ],
   "source": [
    "# 2. Create a list that includes the 3 possible gesture options of the game: 'rock', 'paper' or 'scissors'. Store the list in a variable called gestures.\n",
    "\n",
    "\n",
    "gestures=['rock','paper','scissors']\n",
    "gestures"
   ]
  },
  {
   "cell_type": "code",
   "execution_count": 4,
   "id": "3b7ee887",
   "metadata": {},
   "outputs": [],
   "source": [
    "# 3. Create a variable called n_rounds to store the maximum number of rounds to play in a game.¶ Remember that the number of rounds must be odd: 1, 3, 5, ...\n",
    "\n",
    "\n",
    "MAX_ROUNDS=7"
   ]
  },
  {
   "cell_type": "code",
   "execution_count": 5,
   "id": "1e543fa1",
   "metadata": {},
   "outputs": [],
   "source": [
    "# 4. Create a variable called rounds_to_win to store the number of rounds that a player must win to win the game.¶\n",
    "# Hint: the value stored in rounds_to_win depends on the value of n_rounds.\n",
    "\n",
    "\n",
    "rounds_to_win=3"
   ]
  },
  {
   "cell_type": "code",
   "execution_count": 6,
   "id": "ff246995",
   "metadata": {},
   "outputs": [],
   "source": [
    "# 5. Create two variables to store the number of rounds that the computer and the player have won. Call these variables cpu_score and player_score.\n",
    "\n",
    "cpu_score, player_score = 0,0"
   ]
  },
  {
   "cell_type": "code",
   "execution_count": 7,
   "id": "8bae208c",
   "metadata": {},
   "outputs": [],
   "source": [
    "# 6. Define a function that randomly returns one of the 3 gesture options.\n",
    "# You will use this function to simulate the gesture choice of the computer.\n",
    "\n",
    "def cpu_choice():\n",
    "    return choice(gestures)"
   ]
  },
  {
   "cell_type": "code",
   "execution_count": 8,
   "id": "ca4de1b2",
   "metadata": {},
   "outputs": [],
   "source": [
    "# 7. Define a function that asks the player which is the gesture he or she wants to show: 'rock', 'paper' or 'scissors'.\n",
    "# The player should only be allowed to choose one of the 3 gesture options. If the player's choice is not rock, paper or scissors, keep asking until it is.\n",
    "\n",
    "\n",
    "def player_choice():\n",
    "    print(\"\\nplease enter one of the choices:\",gestures)\n",
    "    while(True):\n",
    "        player_input=input()\n",
    "        if player_input in gestures: break\n",
    "    return player_input"
   ]
  },
  {
   "cell_type": "code",
   "execution_count": 9,
   "id": "b396e416",
   "metadata": {},
   "outputs": [],
   "source": [
    "# 8. Define a function that checks who won a round.¶\n",
    "# The function should return 0 if there is a tie, 1 if the computer wins and 2 if the player wins.\n",
    "\n",
    "def winner(cpu_choice, player_choice):\n",
    "    if(cpu_choice==player_choice): return 0 \n",
    "    elif cpu_choice=='rock':\n",
    "        if(player_choice=='scissors'): return 1\n",
    "        else: return 2 ##. player wins when player choice is paper\n",
    "    elif cpu_choice=='scissors':\n",
    "        if(player_choice== 'rock'): return 2\n",
    "        else: return 1 ##. computer wins when player is paper\n",
    "    else: ##. computer choice is paper\n",
    "        if(player_choice=='scissors'): return 2\n",
    "        else: return 1 ##. computer wins when player is rock"
   ]
  },
  {
   "cell_type": "code",
   "execution_count": 10,
   "id": "c76d7e1e",
   "metadata": {},
   "outputs": [
    {
     "data": {
      "text/plain": [
       "2"
      ]
     },
     "execution_count": 10,
     "metadata": {},
     "output_type": "execute_result"
    }
   ],
   "source": [
    "winner('scissors','rock')"
   ]
  },
  {
   "cell_type": "code",
   "execution_count": 12,
   "id": "2f83852e",
   "metadata": {},
   "outputs": [],
   "source": [
    "# 9. Define a function that prints the choice of the computer, the choice of the player and a message that announces who won the current round.\n",
    "\n",
    "def round_results():\n",
    "    ## ask for the player_input\n",
    "    p_choice=player_choice()\n",
    "    print(\"\\nplayer choice is\",p_choice)\n",
    "\n",
    "    ## generate cpu_choice\n",
    "    cp_choice=cpu_choice()\n",
    "    print(\"Computer choice is\",cp_choice)\n",
    "    winning_round=winner(cp_choice,p_choice)\n",
    "    \n",
    "    ## determine the winner\n",
    "    print(\"The winner is \",winning_round)\n",
    "    global n_rounds, player_score,cpu_score\n",
    "    n_rounds=n_rounds+1\n",
    "    if winning_round==1: cpu_score = cpu_score + 1\n",
    "    if winning_round==2: player_score=player_score+1\n",
    "    ##print(n_rounds)"
   ]
  },
  {
   "cell_type": "code",
   "execution_count": 14,
   "id": "d6f3cb39",
   "metadata": {},
   "outputs": [
    {
     "name": "stdout",
     "output_type": "stream",
     "text": [
      "\n",
      "please enter one of the choices: ['rock', 'paper', 'scissors']\n",
      "paper\n",
      "\n",
      "player choice is paper\n",
      "Computer choice is paper\n",
      "The winner is  0\n"
     ]
    },
    {
     "ename": "NameError",
     "evalue": "name 'n_rounds' is not defined",
     "output_type": "error",
     "traceback": [
      "\u001b[0;31m---------------------------------------------------------------------------\u001b[0m",
      "\u001b[0;31mNameError\u001b[0m                                 Traceback (most recent call last)",
      "\u001b[0;32m<ipython-input-14-e097a24803aa>\u001b[0m in \u001b[0;36m<module>\u001b[0;34m\u001b[0m\n\u001b[0;32m----> 1\u001b[0;31m \u001b[0mround_results\u001b[0m\u001b[0;34m(\u001b[0m\u001b[0;34m)\u001b[0m\u001b[0;34m\u001b[0m\u001b[0;34m\u001b[0m\u001b[0m\n\u001b[0m",
      "\u001b[0;32m<ipython-input-12-ea79c1785104>\u001b[0m in \u001b[0;36mround_results\u001b[0;34m()\u001b[0m\n\u001b[1;32m     14\u001b[0m     \u001b[0mprint\u001b[0m\u001b[0;34m(\u001b[0m\u001b[0;34m\"The winner is \"\u001b[0m\u001b[0;34m,\u001b[0m\u001b[0mwinning_round\u001b[0m\u001b[0;34m)\u001b[0m\u001b[0;34m\u001b[0m\u001b[0;34m\u001b[0m\u001b[0m\n\u001b[1;32m     15\u001b[0m     \u001b[0;32mglobal\u001b[0m \u001b[0mn_rounds\u001b[0m\u001b[0;34m,\u001b[0m \u001b[0mplayer_score\u001b[0m\u001b[0;34m,\u001b[0m\u001b[0mcpu_score\u001b[0m\u001b[0;34m\u001b[0m\u001b[0;34m\u001b[0m\u001b[0m\n\u001b[0;32m---> 16\u001b[0;31m     \u001b[0mn_rounds\u001b[0m\u001b[0;34m=\u001b[0m\u001b[0mn_rounds\u001b[0m\u001b[0;34m+\u001b[0m\u001b[0;36m1\u001b[0m\u001b[0;34m\u001b[0m\u001b[0;34m\u001b[0m\u001b[0m\n\u001b[0m\u001b[1;32m     17\u001b[0m     \u001b[0;32mif\u001b[0m \u001b[0mwinning_round\u001b[0m\u001b[0;34m==\u001b[0m\u001b[0;36m1\u001b[0m\u001b[0;34m:\u001b[0m \u001b[0mcpu_score\u001b[0m \u001b[0;34m=\u001b[0m \u001b[0mcpu_score\u001b[0m \u001b[0;34m+\u001b[0m \u001b[0;36m1\u001b[0m\u001b[0;34m\u001b[0m\u001b[0;34m\u001b[0m\u001b[0m\n\u001b[1;32m     18\u001b[0m     \u001b[0;32mif\u001b[0m \u001b[0mwinning_round\u001b[0m\u001b[0;34m==\u001b[0m\u001b[0;36m2\u001b[0m\u001b[0;34m:\u001b[0m \u001b[0mplayer_score\u001b[0m\u001b[0;34m=\u001b[0m\u001b[0mplayer_score\u001b[0m\u001b[0;34m+\u001b[0m\u001b[0;36m1\u001b[0m\u001b[0;34m\u001b[0m\u001b[0;34m\u001b[0m\u001b[0m\n",
      "\u001b[0;31mNameError\u001b[0m: name 'n_rounds' is not defined"
     ]
    }
   ],
   "source": [
    "round_results()"
   ]
  },
  {
   "cell_type": "code",
   "execution_count": null,
   "id": "c379e5df",
   "metadata": {},
   "outputs": [
    {
     "name": "stdout",
     "output_type": "stream",
     "text": [
      "\n",
      "please enter one of the choices: ['rock', 'paper', 'scissors']\n",
      "paper\n",
      "\n",
      "player choice is paper\n",
      "Computer choice is rock\n",
      "The winner is  2\n",
      "\n",
      "please enter one of the choices: ['rock', 'paper', 'scissors']\n"
     ]
    }
   ],
   "source": [
    "# 10. Now it's time to code the execution of the game using the functions and variables you defined above.\n",
    "\n",
    "## reitnitialize variables\n",
    "n_rounds=0\n",
    "cpu_score, player_score = 0,0\n",
    "rounds_to_win=3\n",
    "\n",
    "while(cpu_score<rounds_to_win and player_score<rounds_to_win and n_rounds<MAX_ROUNDS):\n",
    "    round_results()\n"
   ]
  },
  {
   "cell_type": "code",
   "execution_count": null,
   "id": "82619a79",
   "metadata": {},
   "outputs": [],
   "source": [
    "# 11. Print the winner of the game based on who won more rounds.¶\n",
    "# Remember that the game might be tied."
   ]
  },
  {
   "cell_type": "code",
   "execution_count": null,
   "id": "65ed94fb",
   "metadata": {},
   "outputs": [],
   "source": [
    "def winner_announcement():\n",
    "    if(cpu_score> player_score): print(\"\\n And the winner is.... the Computer!\")\n",
    "    elif(cpu_score< player_score): print(\"\\nAnd the winner is.... the player!\")\n",
    "    else: print(\"\\nThe game is a Tie!\")"
   ]
  },
  {
   "cell_type": "code",
   "execution_count": null,
   "id": "21be1a75",
   "metadata": {},
   "outputs": [],
   "source": [
    "winner_announcement()"
   ]
  },
  {
   "cell_type": "code",
   "execution_count": null,
   "id": "bea7b3bb",
   "metadata": {},
   "outputs": [],
   "source": [
    "# Bonus: Rock, Paper, Scissors, Lizard & Spock\n",
    "\n",
    "\n",
    "## function to ask the user to enter the number of rounds and to make sure the number is valid and Odd number.\n",
    "def input_rounds_to_play():\n",
    "    ##print(\"Please Input the number of rounds to play. Make sure it is an odd number!\")\n",
    "    while(True):\n",
    "        try:\n",
    "            user_input=input(\"Please Input the number of rounds to play. Make sure it is an odd number!\")\n",
    "            if (int(user_input) % 2) != 0: break \n",
    "        except ValueError:\n",
    "            print(\"Oops!  That was no valid number.  Try again...\")    \n",
    "    return int(user_input)"
   ]
  },
  {
   "cell_type": "code",
   "execution_count": null,
   "id": "14a8daa5",
   "metadata": {},
   "outputs": [],
   "source": [
    "input_rounds_to_play()"
   ]
  },
  {
   "cell_type": "code",
   "execution_count": null,
   "id": "b993ac2e",
   "metadata": {},
   "outputs": [],
   "source": [
    "## winner function version for rock,paper,scisoors, spock,lizard \n",
    "def winner_improved_version(cpu_choice, player_choice):\n",
    "    if(cpu_choice==player_choice): return 0 \n",
    "    elif cpu_choice=='rock':\n",
    "        if(player_choice in ['scissors','lizard'] ): return 1\n",
    "        else: return 2 ##. player wins when player choice is paper or spock\n",
    "    elif cpu_choice=='scissors':\n",
    "        if(player_choice in  ['rock','spock']): return 2\n",
    "        else: return 1 ##. computer wins when player is paper or lizard\n",
    "    elif cpu_choice=='lizard':\n",
    "        if(player_choice in  ['rock','scissors']): return 2\n",
    "        else: return 1 ##. computer wins when player is paper or spock\n",
    "    elif cpu_choice=='spock':\n",
    "        if(player_choice in  ['paper','lizards']): return 2\n",
    "        else: return 1 ##. computer wins when player is rock or scissors\n",
    "    else: ##. computer choice is paper\n",
    "        if(player_choice in ['lizard','scissors']): return 2\n",
    "        else: return 1 ##. computer wins when player is rock or spock"
   ]
  },
  {
   "cell_type": "code",
   "execution_count": null,
   "id": "b176693b",
   "metadata": {},
   "outputs": [],
   "source": [
    "winner_improved_version(\"lizard\",\"scissors\")"
   ]
  },
  {
   "cell_type": "code",
   "execution_count": null,
   "id": "21595f3b",
   "metadata": {},
   "outputs": [],
   "source": [
    "## update the gestures list\n",
    "gestures=['rock','paper','scissors','lizard','spock']\n",
    "\n",
    "## intitilaize variables\n",
    "n_rounds=0\n",
    "cpu_score, player_score = 0,0\n",
    "rounds_to_win=3\n",
    "\n",
    "## ask the user too input the number of rounds\n",
    "rounds_to_play=input_rounds_to_play()\n",
    "\n",
    "while(cpu_score<rounds_to_win and player_score<rounds_to_win and n_rounds<rounds_to_play):\n",
    "    round_results()\n",
    "    \n",
    "##Announcing the winner\n",
    "winner_announcement()"
   ]
  },
  {
   "cell_type": "code",
   "execution_count": null,
   "id": "b7e05a78",
   "metadata": {},
   "outputs": [],
   "source": []
  }
 ],
 "metadata": {
  "kernelspec": {
   "display_name": "Python 3",
   "language": "python",
   "name": "python3"
  },
  "language_info": {
   "codemirror_mode": {
    "name": "ipython",
    "version": 3
   },
   "file_extension": ".py",
   "mimetype": "text/x-python",
   "name": "python",
   "nbconvert_exporter": "python",
   "pygments_lexer": "ipython3",
   "version": "3.8.8"
  }
 },
 "nbformat": 4,
 "nbformat_minor": 5
}
