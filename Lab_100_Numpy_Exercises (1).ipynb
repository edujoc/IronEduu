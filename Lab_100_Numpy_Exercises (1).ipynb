{
 "cells": [
  {
   "cell_type": "markdown",
   "id": "270fa111",
   "metadata": {},
   "source": [
    "\n",
    "\n",
    "\n",
    "# 100 numpy exercises\n",
    "\n",
    "This is a collection of exercises that have been collected in the numpy mailing list, on stack overflow\n",
    "and in the numpy documentation. The goal of this collection is to offer a quick reference for both old\n",
    "and new users but also to provide a set of exercises for those who teach.\n",
    "\n",
    "\n",
    "If you find an error or think you've a better way to solve some of them, feel\n",
    "free to open an issue at <https://github.com/rougier/numpy-100>.\n",
    "File automatically generated. See the documentation to update questions/answers/hints programmatically.\n",
    "\n",
    "#### 1. Import the numpy package under the name `np` (★☆☆)\n",
    "`hint: import … as`\n",
    "#### 2. Print the numpy version and the configuration (★☆☆)\n",
    "`hint: np.__version__, np.show_config)`\n",
    "#### 3. Create a null vector of size 10 (★☆☆)\n",
    "`hint: np.zeros`\n",
    "#### 4. How to find the memory size of any array (★☆☆)\n",
    "`hint: size, itemsize`\n",
    "#### 5. How to get the documentation of the numpy add function from the command line? (★☆☆)\n",
    "`hint: np.info`\n",
    "#### 6. Create a null vector of size 10 but the fifth value which is 1 (★☆☆)\n",
    "`hint: array[4]`\n",
    "#### 7. Create a vector with values ranging from 10 to 49 (★☆☆)\n",
    "`hint: arange`\n",
    "#### 8. Reverse a vector (first element becomes last) (★☆☆)\n",
    "`hint: array[::-1]`\n",
    "#### 9. Create a 3x3 matrix with values ranging from 0 to 8 (★☆☆)\n",
    "`hint: reshape`\n",
    "#### 10. Find indices of non-zero elements from [1,2,0,0,4,0] (★☆☆)\n",
    "`hint: np.nonzero`\n",
    "#### 11. Create a 3x3 identity matrix (★☆☆)\n",
    "`hint: np.eye`\n",
    "#### 12. Create a 3x3x3 array with random values (★☆☆)\n",
    "`hint: np.random.random`\n",
    "#### 13. Create a 10x10 array with random values and find the minimum and maximum values (★☆☆)\n",
    "`hint: min, max`\n",
    "#### 14. Create a random vector of size 30 and find the mean value (★☆☆)\n",
    "`hint: mean`\n",
    "#### 15. Create a 2d array with 1 on the border and 0 inside (★☆☆)\n",
    "`hint: array[1:-1, 1:-1]`\n",
    "#### 16. How to add a border (filled with 0's) around an existing array? (★☆☆)\n",
    "`hint: np.pad`\n",
    "#### 17. What is the result of the following expression? (★☆☆)\n",
    "```python\n",
    "0 * np.nan\n",
    "np.nan == np.nan\n",
    "np.inf > np.nan\n",
    "np.nan - np.nan\n",
    "np.nan in set([np.nan])\n",
    "0.3 == 3 * 0.1\n",
    "```\n",
    "`hint: NaN = not a number, inf = infinity`\n",
    "#### 18. Create a 5x5 matrix with values 1,2,3,4 just below the diagonal (★☆☆)\n",
    "`hint: np.diag`\n",
    "#### 19. Create a 8x8 matrix and fill it with a checkerboard pattern (★☆☆)\n",
    "`hint: array[::2]`\n",
    "#### 20. Consider a (6,7,8) shape array, what is the index (x,y,z) of the 100th element? (★☆☆)\n",
    "`hint: np.unravel_index`\n",
    "#### 21. Create a checkerboard 8x8 matrix using the tile function (★☆☆)\n",
    "`hint: np.tile`\n",
    "#### 22. Normalize a 5x5 random matrix (★☆☆)\n",
    "`hint: (x -mean)/std`\n",
    "#### 23. Create a custom dtype that describes a color as four unsigned bytes (RGBA) (★☆☆)\n",
    "`hint: np.dtype`\n",
    "#### 24. Multiply a 5x3 matrix by a 3x2 matrix (real matrix product) (★☆☆)\n",
    "`hint:`\n",
    "#### 25. Given a 1D array, negate all elements which are between 3 and 8, in place. (★☆☆)\n",
    "`hint: >, <`\n",
    "#### 26. What is the output of the following script? (★☆☆)\n",
    "```python\n",
    "# Author: Jake VanderPlas\n",
    "\n",
    "print(sum(range(5),-1))\n",
    "from numpy import *\n",
    "print(sum(range(5),-1))\n",
    "```\n",
    "`hint: np.sum`\n",
    "#### 27. Consider an integer vector Z, which of these expressions are legal? (★☆☆)\n",
    "```python\n",
    "Z**Z\n",
    "2 << Z >> 2\n",
    "Z <- Z\n",
    "1j*Z\n",
    "Z/1/1\n",
    "Z<Z>Z\n",
    "```\n",
    "`No hints provided...`\n",
    "#### 28. What are the result of the following expressions? (★☆☆)\n",
    "```python\n",
    "np.array(0) / np.array(0)\n",
    "np.array(0) // np.array(0)\n",
    "np.array([np.nan]).astype(int).astype(float)\n",
    "```\n",
    "`No hints provided...`\n",
    "#### 29. How to round away from zero a float array ? (★☆☆)\n",
    "`hint: np.uniform, np.copysign, np.ceil, np.abs, np.where`\n",
    "#### 30. How to find common values between two arrays? (★☆☆)\n",
    "`hint: np.intersect1d`\n",
    "#### 31. How to ignore all numpy warnings (not recommended)? (★☆☆)\n",
    "`hint: np.seterr, np.errstate`\n",
    "#### 32. Is the following expressions true? (★☆☆)\n",
    "```python\n",
    "np.sqrt(-1) == np.emath.sqrt(-1)\n",
    "```\n",
    "`hint: imaginary number`\n",
    "#### 33. How to get the dates of yesterday, today and tomorrow? (★☆☆)\n",
    "`hint: np.datetime64, np.timedelta64`\n",
    "#### 34. How to get all the dates corresponding to the month of July 2016? (★★☆)\n",
    "`hint: np.arange(dtype=datetime64['D'])`\n",
    "#### 35. How to compute ((A+B)*(-A/2)) in place (without copy)? (★★☆)\n",
    "`hint: np.add(out=), np.negative(out=), np.multiply(out=), np.divide(out=)`\n",
    "#### 36. Extract the integer part of a random array of positive numbers using 4 different methods (★★☆)\n",
    "`hint: %, np.floor, astype, np.trunc`\n",
    "#### 37. Create a 5x5 matrix with row values ranging from 0 to 4 (★★☆)\n",
    "`hint: np.arange`\n",
    "#### 38. Consider a generator function that generates 10 integers and use it to build an array (★☆☆)\n",
    "`hint: np.fromiter`\n",
    "#### 39. Create a vector of size 10 with values ranging from 0 to 1, both excluded (★★☆)\n",
    "`hint: np.linspace`\n",
    "#### 40. Create a random vector of size 10 and sort it (★★☆)\n",
    "`hint: sort`\n",
    "#### 41. How to sum a small array faster than np.sum? (★★☆)\n",
    "`hint: np.add.reduce`\n",
    "#### 42. Consider two random array A and B, check if they are equal (★★☆)\n",
    "`hint: np.allclose, np.array_equal`\n",
    "#### 43. Make an array immutable (read-only) (★★☆)\n",
    "`hint: flags.writeable`\n",
    "#### 44. Consider a random 10x2 matrix representing cartesian coordinates, convert them to polar coordinates (★★☆)\n",
    "`hint: np.sqrt, np.arctan2`\n",
    "#### 45. Create random vector of size 10 and replace the maximum value by 0 (★★☆)\n",
    "`hint: argmax`\n",
    "#### 46. Create a structured array with `x` and `y` coordinates covering the [0,1]x[0,1] area (★★☆)\n",
    "`hint: np.meshgrid`\n",
    "#### 47. Given two arrays, X and Y, construct the Cauchy matrix C (Cij =1/(xi - yj)) (★★☆)\n",
    "`hint: np.subtract.outer`\n",
    "#### 48. Print the minimum and maximum representable value for each numpy scalar type (★★☆)\n",
    "`hint: np.iinfo, np.finfo, eps`\n",
    "#### 49. How to print all the values of an array? (★★☆)\n",
    "`hint: np.set_printoptions`\n",
    "#### 50. How to find the closest value (to a given scalar) in a vector? (★★☆)\n",
    "`hint: argmin`\n",
    "#### 51. Create a structured array representing a position (x,y) and a color (r,g,b) (★★☆)\n",
    "`hint: dtype`\n",
    "#### 52. Consider a random vector with shape (100,2) representing coordinates, find point by point distances (★★☆)\n",
    "`hint: np.atleast_2d, T, np.sqrt`\n",
    "#### 53. How to convert a float (32 bits) array into an integer (32 bits) in place?\n",
    "`hint: view and [:] =`\n",
    "#### 54. How to read the following file? (★★☆)\n",
    "```\n",
    "1, 2, 3, 4, 5\n",
    "6,  ,  , 7, 8\n",
    " ,  , 9,10,11\n",
    "```\n",
    "`hint: np.genfromtxt`\n",
    "#### 55. What is the equivalent of enumerate for numpy arrays? (★★☆)\n",
    "`hint: np.ndenumerate, np.ndindex`\n",
    "#### 56. Generate a generic 2D Gaussian-like array (★★☆)\n",
    "`hint: np.meshgrid, np.exp`\n",
    "#### 57. How to randomly place p elements in a 2D array? (★★☆)\n",
    "`hint: np.put, np.random.choice`\n",
    "#### 58. Subtract the mean of each row of a matrix (★★☆)\n",
    "`hint: mean(axis=,keepdims=)`\n",
    "#### 59. How to sort an array by the nth column? (★★☆)\n",
    "`hint: argsort`\n",
    "#### 60. How to tell if a given 2D array has null columns? (★★☆)\n",
    "`hint: any, ~`\n",
    "#### 61. Find the nearest value from a given value in an array (★★☆)\n",
    "`hint: np.abs, argmin, flat`\n",
    "#### 62. Considering two arrays with shape (1,3) and (3,1), how to compute their sum using an iterator? (★★☆)\n",
    "`hint: np.nditer`\n",
    "#### 63. Create an array class that has a name attribute (★★☆)\n",
    "`hint: class method`\n",
    "#### 64. Consider a given vector, how to add 1 to each element indexed by a second vector (be careful with repeated indices)? (★★★)\n",
    "`hint: np.bincount | np.add.at`\n",
    "#### 65. How to accumulate elements of a vector (X) to an array (F) based on an index list (I)? (★★★)\n",
    "`hint: np.bincount`\n",
    "#### 66. Considering a (w,h,3) image of (dtype=ubyte), compute the number of unique colors (★★☆)\n",
    "`hint: np.unique`\n",
    "#### 67. Considering a four dimensions array, how to get sum over the last two axis at once? (★★★)\n",
    "`hint: sum(axis=(-2,-1))`\n",
    "#### 68. Considering a one-dimensional vector D, how to compute means of subsets of D using a vector S of same size describing subset  indices? (★★★)\n",
    "`hint: np.bincount`\n",
    "#### 69. How to get the diagonal of a dot product? (★★★)\n",
    "`hint: np.diag`\n",
    "#### 70. Consider the vector [1, 2, 3, 4, 5], how to build a new vector with 3 consecutive zeros interleaved between each value? (★★★)\n",
    "`hint: array[::4]`\n",
    "#### 71. Consider an array of dimension (5,5,3), how to mulitply it by an array with dimensions (5,5)? (★★★)\n",
    "`hint: array[:, :, None]`\n",
    "#### 72. How to swap two rows of an array? (★★★)\n",
    "`hint: array[[]] = array[[]]`\n",
    "#### 73. Consider a set of 10 triplets describing 10 triangles (with shared vertices), find the set of unique line segments composing all the  triangles (★★★)\n",
    "`hint: repeat, np.roll, np.sort, view, np.unique`\n",
    "#### 74. Given a sorted array C that corresponds to a bincount, how to produce an array A such that np.bincount(A) == C? (★★★)\n",
    "`hint: np.repeat`\n",
    "#### 75. How to compute averages using a sliding window over an array? (★★★)\n",
    "`hint: np.cumsum`\n",
    "#### 76. Consider a one-dimensional array Z, build a two-dimensional array whose first row is (Z[0],Z[1],Z[2]) and each subsequent row is  shifted by 1 (last row should be (Z[-3],Z[-2],Z[-1]) (★★★)\n",
    "`hint: from numpy.lib import stride_tricks`\n",
    "#### 77. How to negate a boolean, or to change the sign of a float inplace? (★★★)\n",
    "`hint: np.logical_not, np.negative`\n",
    "#### 78. Consider 2 sets of points P0,P1 describing lines (2d) and a point p, how to compute distance from p to each line i (P0[i],P1[i])? (★★★)\n",
    "`No hints provided...`\n",
    "#### 79. Consider 2 sets of points P0,P1 describing lines (2d) and a set of points P, how to compute distance from each point j (P[j]) to each line i (P0[i],P1[i])? (★★★)\n",
    "`No hints provided...`\n",
    "#### 80. Consider an arbitrary array, write a function that extract a subpart with a fixed shape and centered on a given element (pad with a `fill` value when necessary) (★★★)\n",
    "`hint: minimum maximum`\n",
    "#### 81. Consider an array Z = [1,2,3,4,5,6,7,8,9,10,11,12,13,14], how to generate an array R = [[1,2,3,4], [2,3,4,5], [3,4,5,6], ..., [11,12,13,14]]? (★★★)\n",
    "`hint: stride_tricks.as_strided`\n",
    "#### 82. Compute a matrix rank (★★★)\n",
    "`hint: np.linalg.svd`\n",
    "#### 83. How to find the most frequent value in an array?\n",
    "`hint: np.bincount, argmax`\n",
    "#### 84. Extract all the contiguous 3x3 blocks from a random 10x10 matrix (★★★)\n",
    "`hint: stride_tricks.as_strided`\n",
    "#### 85. Create a 2D array subclass such that Z[i,j] == Z[j,i] (★★★)\n",
    "`hint: class method`\n",
    "#### 86. Consider a set of p matrices wich shape (n,n) and a set of p vectors with shape (n,1). How to compute the sum of of the p matrix products at once? (result has shape (n,1)) (★★★)\n",
    "`hint: np.tensordot`\n",
    "#### 87. Consider a 16x16 array, how to get the block-sum (block size is 4x4)? (★★★)\n",
    "`hint: np.add.reduceat`\n",
    "#### 88. How to implement the Game of Life using numpy arrays? (★★★)\n",
    "`No hints provided...`\n",
    "#### 89. How to get the n largest values of an array (★★★)\n",
    "`hint: np.argsort | np.argpartition`\n",
    "#### 90. Given an arbitrary number of vectors, build the cartesian product (every combinations of every item) (★★★)\n",
    "`hint: np.indices`\n",
    "#### 91. How to create a record array from a regular array? (★★★)\n",
    "`hint: np.core.records.fromarrays`\n",
    "#### 92. Consider a large vector Z, compute Z to the power of 3 using 3 different methods (★★★)\n",
    "`hint: np.power, *, np.einsum`\n",
    "#### 93. Consider two arrays A and B of shape (8,3) and (2,2). How to find rows of A that contain elements of each row of B regardless of the order of the elements in B? (★★★)\n",
    "`hint: np.where`\n",
    "#### 94. Considering a 10x3 matrix, extract rows with unequal values (e.g. [2,2,3]) (★★★)\n",
    "`No hints provided...`\n",
    "#### 95. Convert a vector of ints into a matrix binary representation (★★★)\n",
    "`hint: np.unpackbits`\n",
    "#### 96. Given a two dimensional array, how to extract unique rows? (★★★)\n",
    "`hint: np.ascontiguousarray | np.unique`\n",
    "#### 97. Considering 2 vectors A & B, write the einsum equivalent of inner, outer, sum, and mul function (★★★)\n",
    "`hint: np.einsum`\n",
    "#### 98. Considering a path described by two vectors (X,Y), how to sample it using equidistant samples (★★★)?\n",
    "`hint: np.cumsum, np.interp`\n",
    "#### 99. Given an integer n and a 2D array X, select from X the rows which can be interpreted as draws from a multinomial distribution with n degrees, i.e., the rows which only contain integers and which sum to n. (★★★)\n",
    "`hint: np.logical_and.reduce, np.mod`\n",
    "#### 100. Compute bootstrapped 95% confidence intervals for the mean of a 1D array X (i.e., resample the elements of an array with replacement N times, compute the mean of each sample, and then compute percentiles over the means). (★★★)\n",
    "`hint: np.percentile`"
   ]
  },
  {
   "cell_type": "code",
   "execution_count": 1,
   "id": "bae30860",
   "metadata": {},
   "outputs": [],
   "source": [
    "# 1\n",
    "\n",
    "import numpy as np"
   ]
  },
  {
   "cell_type": "code",
   "execution_count": 5,
   "id": "475812cc",
   "metadata": {},
   "outputs": [
    {
     "name": "stdout",
     "output_type": "stream",
     "text": [
      "1.20.1\n",
      "<function show at 0x7f88795c59d0>\n"
     ]
    }
   ],
   "source": [
    "# 2\n",
    "\n",
    "print (np.__version__)\n",
    "print (np.show_config)"
   ]
  },
  {
   "cell_type": "code",
   "execution_count": 8,
   "id": "f7aac9c7",
   "metadata": {},
   "outputs": [
    {
     "name": "stdout",
     "output_type": "stream",
     "text": [
      "[0. 0. 0. 0. 0. 0. 0. 0. 0. 0.]\n"
     ]
    }
   ],
   "source": [
    "# 3\n",
    "\n",
    "x = np.zeros(10)\n",
    "print(x)"
   ]
  },
  {
   "cell_type": "code",
   "execution_count": 10,
   "id": "9ba17d5f",
   "metadata": {},
   "outputs": [
    {
     "name": "stdout",
     "output_type": "stream",
     "text": [
      "Size of the array:  3\n",
      "Memory size of one array element in bytes:  8\n",
      "Memory size of numpy array in bytes: 24\n"
     ]
    }
   ],
   "source": [
    "# 4\n",
    "\n",
    "# create a numpy 1d-array\n",
    "x = np.array([150,83,22])\n",
    "\n",
    "print(\"Size of the array: \", x.size)\n",
    "\n",
    "print(\"Memory size of one array element in bytes: \", x.itemsize)\n",
    "\n",
    "# memory size of numpy array in bytes\n",
    "print(\"Memory size of numpy array in bytes:\", x.size * x.itemsize)\n"
   ]
  },
  {
   "cell_type": "code",
   "execution_count": 11,
   "id": "f4e076b8",
   "metadata": {},
   "outputs": [
    {
     "name": "stdout",
     "output_type": "stream",
     "text": [
      "add(x1, x2, /, out=None, *, where=True, casting='same_kind', order='K', dtype=None, subok=True[, signature, extobj])\n",
      "\n",
      "Add arguments element-wise.\n",
      "\n",
      "Parameters\n",
      "----------\n",
      "x1, x2 : array_like\n",
      "    The arrays to be added.\n",
      "    If ``x1.shape != x2.shape``, they must be broadcastable to a common\n",
      "    shape (which becomes the shape of the output).\n",
      "out : ndarray, None, or tuple of ndarray and None, optional\n",
      "    A location into which the result is stored. If provided, it must have\n",
      "    a shape that the inputs broadcast to. If not provided or None,\n",
      "    a freshly-allocated array is returned. A tuple (possible only as a\n",
      "    keyword argument) must have length equal to the number of outputs.\n",
      "where : array_like, optional\n",
      "    This condition is broadcast over the input. At locations where the\n",
      "    condition is True, the `out` array will be set to the ufunc result.\n",
      "    Elsewhere, the `out` array will retain its original value.\n",
      "    Note that if an uninitialized `out` array is created via the default\n",
      "    ``out=None``, locations within it where the condition is False will\n",
      "    remain uninitialized.\n",
      "**kwargs\n",
      "    For other keyword-only arguments, see the\n",
      "    :ref:`ufunc docs <ufuncs.kwargs>`.\n",
      "\n",
      "Returns\n",
      "-------\n",
      "add : ndarray or scalar\n",
      "    The sum of `x1` and `x2`, element-wise.\n",
      "    This is a scalar if both `x1` and `x2` are scalars.\n",
      "\n",
      "Notes\n",
      "-----\n",
      "Equivalent to `x1` + `x2` in terms of array broadcasting.\n",
      "\n",
      "Examples\n",
      "--------\n",
      ">>> np.add(1.0, 4.0)\n",
      "5.0\n",
      ">>> x1 = np.arange(9.0).reshape((3, 3))\n",
      ">>> x2 = np.arange(3.0)\n",
      ">>> np.add(x1, x2)\n",
      "array([[  0.,   2.,   4.],\n",
      "       [  3.,   5.,   7.],\n",
      "       [  6.,   8.,  10.]])\n",
      "\n",
      "The ``+`` operator can be used as a shorthand for ``np.add`` on ndarrays.\n",
      "\n",
      ">>> x1 = np.arange(9.0).reshape((3, 3))\n",
      ">>> x2 = np.arange(3.0)\n",
      ">>> x1 + x2\n",
      "array([[ 0.,  2.,  4.],\n",
      "       [ 3.,  5.,  7.],\n",
      "       [ 6.,  8., 10.]])\n",
      "None\n"
     ]
    }
   ],
   "source": [
    "# 5\n",
    "\n",
    "print(np.info(np.add))"
   ]
  },
  {
   "cell_type": "code",
   "execution_count": 13,
   "id": "ea386f01",
   "metadata": {},
   "outputs": [
    {
     "name": "stdout",
     "output_type": "stream",
     "text": [
      "[0. 0. 0. 0. 1. 0. 0. 0. 0. 0.]\n"
     ]
    }
   ],
   "source": [
    "# 6\n",
    "\n",
    "x = np.zeros(10)\n",
    "x[4] = 1\n",
    "print(x)"
   ]
  },
  {
   "cell_type": "code",
   "execution_count": 19,
   "id": "7fd3ae33",
   "metadata": {},
   "outputs": [
    {
     "name": "stdout",
     "output_type": "stream",
     "text": [
      "[10 11 12 13 14 15 16 17 18 19 20 21 22 23 24 25 26 27 28 29 30 31 32 33\n",
      " 34 35 36 37 38 39 40 41 42 43 44 45 46 47 48 49]\n"
     ]
    }
   ],
   "source": [
    "# 7\n",
    "\n",
    "x = np.arange(10,50)\n",
    "print(x)"
   ]
  },
  {
   "cell_type": "code",
   "execution_count": 20,
   "id": "717935ed",
   "metadata": {},
   "outputs": [
    {
     "name": "stdout",
     "output_type": "stream",
     "text": [
      "[49 48 47 46 45 44 43 42 41 40 39 38 37 36 35 34 33 32 31 30 29 28 27 26\n",
      " 25 24 23 22 21 20 19 18 17 16 15 14 13 12 11 10]\n"
     ]
    }
   ],
   "source": [
    "# 8\n",
    "\n",
    "x = x[::-1]\n",
    "print(x)"
   ]
  },
  {
   "cell_type": "code",
   "execution_count": 17,
   "id": "0df1a3a5",
   "metadata": {},
   "outputs": [
    {
     "name": "stdout",
     "output_type": "stream",
     "text": [
      "[[0 1 2]\n",
      " [3 4 5]\n",
      " [6 7 8]]\n"
     ]
    }
   ],
   "source": [
    "# 9\n",
    "\n",
    "x = np.arange(0, 9).reshape(3,3)\n",
    "print(x)"
   ]
  },
  {
   "cell_type": "code",
   "execution_count": 21,
   "id": "19b952c0",
   "metadata": {},
   "outputs": [
    {
     "name": "stdout",
     "output_type": "stream",
     "text": [
      "(array([0, 1, 4]),)\n"
     ]
    }
   ],
   "source": [
    "# 10\n",
    "\n",
    "x = np.nonzero([1,2,0,0,4,0])\n",
    "print(x)"
   ]
  },
  {
   "cell_type": "code",
   "execution_count": 22,
   "id": "f20729cf",
   "metadata": {},
   "outputs": [
    {
     "name": "stdout",
     "output_type": "stream",
     "text": [
      "[[1. 0. 0.]\n",
      " [0. 1. 0.]\n",
      " [0. 0. 1.]]\n"
     ]
    }
   ],
   "source": [
    "# 11\n",
    "\n",
    "x = np.eye(3)\n",
    "print(x)"
   ]
  },
  {
   "cell_type": "code",
   "execution_count": 23,
   "id": "b0ab8f99",
   "metadata": {},
   "outputs": [
    {
     "name": "stdout",
     "output_type": "stream",
     "text": [
      "[[[0.82831853 0.68102774 0.90893684]\n",
      "  [0.2073822  0.81835257 0.52953038]\n",
      "  [0.98923514 0.42741013 0.09502274]]\n",
      "\n",
      " [[0.38436745 0.29594571 0.65165637]\n",
      "  [0.13245595 0.48463926 0.88962248]\n",
      "  [0.15695978 0.5679769  0.54831026]]\n",
      "\n",
      " [[0.46538994 0.49429156 0.5379419 ]\n",
      "  [0.84690495 0.3523975  0.02298075]\n",
      "  [0.78834538 0.77834009 0.17988635]]]\n"
     ]
    }
   ],
   "source": [
    "# 12\n",
    "\n",
    "x = np.random.random((3,3,3))\n",
    "print(x)"
   ]
  },
  {
   "cell_type": "code",
   "execution_count": 27,
   "id": "0786b06a",
   "metadata": {},
   "outputs": [
    {
     "name": "stdout",
     "output_type": "stream",
     "text": [
      "[[0.33878543 0.91357765 0.08718371 0.47790457 0.4401917  0.67229067\n",
      "  0.7936794  0.17925248 0.45618533 0.47343969]\n",
      " [0.80721126 0.75327944 0.91725199 0.31936042 0.63273543 0.97968958\n",
      "  0.08452521 0.00594826 0.7931213  0.6411844 ]\n",
      " [0.58491819 0.32220448 0.33030854 0.29139986 0.92840428 0.10405707\n",
      "  0.4457605  0.72662916 0.05776949 0.34647195]\n",
      " [0.75104063 0.4244691  0.28123497 0.95739517 0.41123411 0.51152362\n",
      "  0.38614918 0.82691112 0.87783578 0.4947105 ]\n",
      " [0.85473963 0.41406486 0.78599223 0.29974339 0.4502475  0.71496855\n",
      "  0.85936176 0.43670512 0.16088283 0.99101037]\n",
      " [0.19103559 0.65003399 0.73428313 0.02502173 0.84874833 0.73351562\n",
      "  0.69178572 0.39604696 0.90529938 0.3033406 ]\n",
      " [0.00309204 0.5577425  0.77375819 0.27456411 0.46005929 0.34412236\n",
      "  0.73529097 0.264628   0.93388265 0.34281044]\n",
      " [0.66600718 0.92173669 0.40487944 0.17337268 0.98640911 0.54794393\n",
      "  0.09374676 0.76316928 0.66294649 0.01368173]\n",
      " [0.73087521 0.9200093  0.35897638 0.88203207 0.14752121 0.17470187\n",
      "  0.38010323 0.02753787 0.36978163 0.77185496]\n",
      " [0.09498084 0.77253431 0.38414792 0.06136881 0.57069089 0.53444801\n",
      "  0.87156993 0.50409735 0.12264916 0.5375206 ]]\n"
     ]
    }
   ],
   "source": [
    "# 13\n",
    "\n",
    "x = np.random.random((10,10))\n",
    "print(x)"
   ]
  },
  {
   "cell_type": "code",
   "execution_count": 28,
   "id": "f9170c1c",
   "metadata": {},
   "outputs": [
    {
     "name": "stdout",
     "output_type": "stream",
     "text": [
      "0.0030920441026330847 0.9910103707617801\n"
     ]
    }
   ],
   "source": [
    "xmin, xmax = x.min(), x.max()\n",
    "\n",
    "print(xmin, xmax)"
   ]
  },
  {
   "cell_type": "code",
   "execution_count": 29,
   "id": "f16dd0db",
   "metadata": {},
   "outputs": [
    {
     "name": "stdout",
     "output_type": "stream",
     "text": [
      "0.42699459440309967\n"
     ]
    }
   ],
   "source": [
    "# 14\n",
    "\n",
    "x = np.random.random(30)\n",
    "m = x.mean()\n",
    "print(m)"
   ]
  },
  {
   "cell_type": "code",
   "execution_count": 30,
   "id": "f8a08b88",
   "metadata": {},
   "outputs": [
    {
     "name": "stdout",
     "output_type": "stream",
     "text": [
      "[[1. 1. 1. 1. 1. 1. 1. 1. 1. 1.]\n",
      " [1. 0. 0. 0. 0. 0. 0. 0. 0. 1.]\n",
      " [1. 0. 0. 0. 0. 0. 0. 0. 0. 1.]\n",
      " [1. 0. 0. 0. 0. 0. 0. 0. 0. 1.]\n",
      " [1. 0. 0. 0. 0. 0. 0. 0. 0. 1.]\n",
      " [1. 0. 0. 0. 0. 0. 0. 0. 0. 1.]\n",
      " [1. 0. 0. 0. 0. 0. 0. 0. 0. 1.]\n",
      " [1. 0. 0. 0. 0. 0. 0. 0. 0. 1.]\n",
      " [1. 0. 0. 0. 0. 0. 0. 0. 0. 1.]\n",
      " [1. 1. 1. 1. 1. 1. 1. 1. 1. 1.]]\n"
     ]
    }
   ],
   "source": [
    "# 15\n",
    "\n",
    "x = np.ones((10,10))\n",
    "x[1:-1,1:-1] = 0\n",
    "print(x)"
   ]
  },
  {
   "cell_type": "code",
   "execution_count": 32,
   "id": "c6a37447",
   "metadata": {},
   "outputs": [
    {
     "name": "stdout",
     "output_type": "stream",
     "text": [
      "[[0. 0. 0. 0. 0. 0. 0.]\n",
      " [0. 1. 1. 1. 1. 1. 0.]\n",
      " [0. 1. 1. 1. 1. 1. 0.]\n",
      " [0. 1. 1. 1. 1. 1. 0.]\n",
      " [0. 1. 1. 1. 1. 1. 0.]\n",
      " [0. 1. 1. 1. 1. 1. 0.]\n",
      " [0. 0. 0. 0. 0. 0. 0.]]\n"
     ]
    }
   ],
   "source": [
    "# 16\n",
    "\n",
    "x = np.ones((5,5))\n",
    "\n",
    "x = np.pad(x, pad_width=1, mode='constant', constant_values=0)\n",
    "\n",
    "print(x)"
   ]
  },
  {
   "cell_type": "code",
   "execution_count": 34,
   "id": "2c658928",
   "metadata": {},
   "outputs": [
    {
     "name": "stdout",
     "output_type": "stream",
     "text": [
      "nan\n",
      "False\n",
      "False\n",
      "nan\n",
      "True\n",
      "False\n"
     ]
    }
   ],
   "source": [
    "# 17\n",
    "\n",
    "0 * np.nan\n",
    "np.nan == np.nan\n",
    "np.inf > np.nan\n",
    "np.nan - np.nan\n",
    "np.nan in set([np.nan])\n",
    "0.3 == 3 * 0.1\n",
    "\n",
    "print(0 * np.nan)\n",
    "print(np.nan == np.nan)\n",
    "print(np.inf > np.nan)\n",
    "print(np.nan - np.nan)\n",
    "print(np.nan in set([np.nan]))\n",
    "print(0.3 == 3 * 0.1)"
   ]
  },
  {
   "cell_type": "code",
   "execution_count": 35,
   "id": "c068848c",
   "metadata": {},
   "outputs": [
    {
     "name": "stdout",
     "output_type": "stream",
     "text": [
      "[[0 0 0 0 0]\n",
      " [1 0 0 0 0]\n",
      " [0 2 0 0 0]\n",
      " [0 0 3 0 0]\n",
      " [0 0 0 4 0]]\n"
     ]
    }
   ],
   "source": [
    "# 18\n",
    "\n",
    "x = np.diag(1+np.arange(4),k=-1)\n",
    "print(x)"
   ]
  },
  {
   "cell_type": "code",
   "execution_count": 36,
   "id": "cadbbac2",
   "metadata": {},
   "outputs": [
    {
     "name": "stdout",
     "output_type": "stream",
     "text": [
      "[[0 1 0 1 0 1 0 1]\n",
      " [1 0 1 0 1 0 1 0]\n",
      " [0 1 0 1 0 1 0 1]\n",
      " [1 0 1 0 1 0 1 0]\n",
      " [0 1 0 1 0 1 0 1]\n",
      " [1 0 1 0 1 0 1 0]\n",
      " [0 1 0 1 0 1 0 1]\n",
      " [1 0 1 0 1 0 1 0]]\n"
     ]
    }
   ],
   "source": [
    "# 19\n",
    "\n",
    "x = np.zeros((8,8),dtype=int)\n",
    "x[1::2,::2] = 1\n",
    "x[::2,1::2] = 1\n",
    "print(x)"
   ]
  },
  {
   "cell_type": "code",
   "execution_count": 37,
   "id": "c8a4d47a",
   "metadata": {},
   "outputs": [
    {
     "name": "stdout",
     "output_type": "stream",
     "text": [
      "(1, 5, 4)\n"
     ]
    }
   ],
   "source": [
    "# 20\n",
    "\n",
    "print(np.unravel_index(100,(6,7,8)))"
   ]
  },
  {
   "cell_type": "code",
   "execution_count": 38,
   "id": "a0876578",
   "metadata": {},
   "outputs": [
    {
     "name": "stdout",
     "output_type": "stream",
     "text": [
      "[[0 1 0 1 0 1 0 1]\n",
      " [1 0 1 0 1 0 1 0]\n",
      " [0 1 0 1 0 1 0 1]\n",
      " [1 0 1 0 1 0 1 0]\n",
      " [0 1 0 1 0 1 0 1]\n",
      " [1 0 1 0 1 0 1 0]\n",
      " [0 1 0 1 0 1 0 1]\n",
      " [1 0 1 0 1 0 1 0]]\n"
     ]
    }
   ],
   "source": [
    "# 21\n",
    "\n",
    "x = np.tile( np.array([[0,1],[1,0]]), (4,4))\n",
    "print(x)"
   ]
  },
  {
   "cell_type": "code",
   "execution_count": 39,
   "id": "95698856",
   "metadata": {},
   "outputs": [
    {
     "name": "stdout",
     "output_type": "stream",
     "text": [
      "[[0.97713894 0.         0.62229609 0.98226743 0.44850575]\n",
      " [0.29221965 1.         0.95154038 0.04833878 0.86788596]\n",
      " [0.4106206  0.57863791 0.32463843 0.92514353 0.14790136]\n",
      " [0.25833046 0.91552449 0.807092   0.69678765 0.5533126 ]\n",
      " [0.14155353 0.53338696 0.52740819 0.63894098 0.05832483]]\n"
     ]
    }
   ],
   "source": [
    "# 22\n",
    "\n",
    "x = np.random.random((5,5))\n",
    "xmax, xmin = x.max(), x.min()\n",
    "x = (x - xmin)/(xmax - xmin)\n",
    "print(x)"
   ]
  },
  {
   "cell_type": "code",
   "execution_count": 42,
   "id": "8cf38387",
   "metadata": {},
   "outputs": [
    {
     "name": "stderr",
     "output_type": "stream",
     "text": [
      "<ipython-input-42-a52e3ef18529>:3: FutureWarning: Passing (type, 1) or '1type' as a synonym of type is deprecated; in a future version of numpy, it will be understood as (type, (1,)) / '(1,)type'.\n",
      "  color = np.dtype([(\"r\", np.ubyte, 1),\n"
     ]
    }
   ],
   "source": [
    "# 23\n",
    "\n",
    "color = np.dtype([(\"r\", np.ubyte, 1),\n",
    "                  (\"g\", np.ubyte, 1),\n",
    "                  (\"b\", np.ubyte, 1),\n",
    "                  (\"a\", np.ubyte, 1)])"
   ]
  },
  {
   "cell_type": "code",
   "execution_count": 43,
   "id": "60bd1f28",
   "metadata": {},
   "outputs": [
    {
     "name": "stdout",
     "output_type": "stream",
     "text": [
      "[[3. 3.]\n",
      " [3. 3.]\n",
      " [3. 3.]\n",
      " [3. 3.]\n",
      " [3. 3.]]\n"
     ]
    }
   ],
   "source": [
    "# 24\n",
    "\n",
    "x = np.dot(np.ones((5,3)), np.ones((3,2)))\n",
    "print(x)"
   ]
  },
  {
   "cell_type": "code",
   "execution_count": 44,
   "id": "05f137bc",
   "metadata": {},
   "outputs": [
    {
     "name": "stdout",
     "output_type": "stream",
     "text": [
      "[ 0  1  2  3 -4 -5 -6 -7  8  9 10]\n"
     ]
    }
   ],
   "source": [
    "# 25\n",
    "\n",
    "x = np.arange(11)\n",
    "x[(3 < x) & (x < 8)] *= -1\n",
    "print(x)"
   ]
  },
  {
   "cell_type": "code",
   "execution_count": 45,
   "id": "cfea8286",
   "metadata": {},
   "outputs": [
    {
     "name": "stdout",
     "output_type": "stream",
     "text": [
      "9\n",
      "10\n"
     ]
    }
   ],
   "source": [
    "# 26\n",
    "\n",
    "print(sum(range(5),-1))\n",
    "from numpy import *\n",
    "print(sum(range(5),-1))"
   ]
  },
  {
   "cell_type": "code",
   "execution_count": null,
   "id": "c983531a",
   "metadata": {},
   "outputs": [],
   "source": []
  }
 ],
 "metadata": {
  "kernelspec": {
   "display_name": "Python 3",
   "language": "python",
   "name": "python3"
  },
  "language_info": {
   "codemirror_mode": {
    "name": "ipython",
    "version": 3
   },
   "file_extension": ".py",
   "mimetype": "text/x-python",
   "name": "python",
   "nbconvert_exporter": "python",
   "pygments_lexer": "ipython3",
   "version": "3.8.8"
  }
 },
 "nbformat": 4,
 "nbformat_minor": 5
}
