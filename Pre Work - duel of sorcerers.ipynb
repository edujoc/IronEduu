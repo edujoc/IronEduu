{
 "cells": [
  {
   "cell_type": "code",
   "execution_count": 1,
   "id": "ea1e17d2",
   "metadata": {},
   "outputs": [],
   "source": [
    "# Duel of Sorcerers\n",
    "\n",
    "# Tasks\n",
    "# 1. Create two variables called gandalf and saruman and assign them the spell power lists. Create a variable called spells to store the number of spells that the sorcerers cast.\n",
    "\n",
    "\n",
    "gandalf=[10, 11, 13, 30, 22, 11, 10, 33, 22, 22]\n",
    "saruman=[23, 66, 12, 43, 12, 10, 44, 23, 12, 17]\n",
    "spells=10"
   ]
  },
  {
   "cell_type": "code",
   "execution_count": 2,
   "id": "5d04ea43",
   "metadata": {},
   "outputs": [],
   "source": [
    "# 2. Create two variables called gandalf_wins and saruman_wins. Set both of them to 0.\n",
    "\n",
    "gandalf_wins=0\n",
    "saruman_wins=0"
   ]
  },
  {
   "cell_type": "code",
   "execution_count": 3,
   "id": "7ef3b6f4",
   "metadata": {},
   "outputs": [],
   "source": [
    "# 3. Using the lists of spells of both sorcerers, update variables gandalf_wins and saruman_wins to count the number of times each sorcerer wins a clash\n",
    "\n",
    "for index in range(len(gandalf)):\n",
    "    if(gandalf[index]>saruman[index]):\n",
    "        gandalf_wins=gandalf_wins+1\n",
    "    if(gandalf[index]<saruman[index]):\n",
    "        saruman_wins=saruman_wins+1"
   ]
  },
  {
   "cell_type": "code",
   "execution_count": 4,
   "id": "142bc5eb",
   "metadata": {},
   "outputs": [
    {
     "name": "stdout",
     "output_type": "stream",
     "text": [
      "Gandalf wins\n"
     ]
    }
   ],
   "source": [
    "# 4. Who won the battle?¶ Print Gandalf wins, Saruman wins or Tie depending on the result.\n",
    "\n",
    "if(gandalf_wins>saruman_wins):\n",
    "    print(\"Gandalf wins\")\n",
    "elif(saruman_wins>gandalf_wins):\n",
    "    print(\"Saruman wins\")\n",
    "    \n",
    "else:\n",
    "    print(\"Tie\")"
   ]
  },
  {
   "cell_type": "code",
   "execution_count": 5,
   "id": "daee6962",
   "metadata": {},
   "outputs": [],
   "source": [
    "# Bonus\n",
    "\n",
    "# 1. Create variables POWER, gandalf and saruman as seen above. Create a variable called spells to store the number of spells that the sorcerers cast.\n",
    "\n",
    "POWER = {\n",
    "    'Fireball': 50, \n",
    "    'Lightning bolt': 40, \n",
    "    'Magic arrow': 10, \n",
    "    'Black Tentacles': 25, \n",
    "    'Contagion': 45\n",
    "}\n",
    "\n",
    "gandalf = ['Fireball', 'Lightning bolt', 'Lightning bolt', 'Magic arrow', 'Fireball', \n",
    "           'Magic arrow', 'Lightning bolt', 'Fireball', 'Fireball', 'Fireball']\n",
    "saruman = ['Contagion', 'Contagion', 'Black Tentacles', 'Fireball', 'Black Tentacles', \n",
    "           'Lightning bolt', 'Magic arrow', 'Contagion', 'Magic arrow', 'Magic arrow']\n",
    "\n",
    "spells=0"
   ]
  },
  {
   "cell_type": "code",
   "execution_count": 6,
   "id": "43101ca9",
   "metadata": {},
   "outputs": [],
   "source": [
    "# 2. Create two variables called gandalf_wins and saruman_wins. Set both of them to 0.\n",
    "\n",
    "gandalf_wins=0\n",
    "saruman_wins=0"
   ]
  },
  {
   "cell_type": "code",
   "execution_count": 7,
   "id": "13947717",
   "metadata": {},
   "outputs": [
    {
     "name": "stdout",
     "output_type": "stream",
     "text": [
      "[50, 40, 40, 10, 50, 10, 40, 50, 50, 50]\n",
      "[45, 45, 25, 50, 25, 40, 10, 45, 10, 10]\n"
     ]
    }
   ],
   "source": [
    "# 3. Create two variables called gandalf_power and saruman_power to store the list of spell powers of each sorcerer.\n",
    "\n",
    "gandalf_power= [POWER.get(item,0) for item in gandalf]\n",
    "saruman_power= [POWER.get(item,0) for item in saruman]\n",
    "print(gandalf_power)\n",
    "print(saruman_power)"
   ]
  },
  {
   "cell_type": "code",
   "execution_count": 8,
   "id": "ce810c7a",
   "metadata": {},
   "outputs": [
    {
     "name": "stdout",
     "output_type": "stream",
     "text": [
      "Gandalf Wins\n"
     ]
    }
   ],
   "source": [
    "# 4. The battle starts! Using the variables you've created above, code the execution of spell clashes. Remember that a sorcerer wins if he succeeds in winning 3 spell clashes in a row.¶\n",
    "# If a clash ends up in a tie, the counter of wins in a row is not restarted to 0. Remember to print who is the winner of the battle.\n",
    "\n",
    "\n",
    "for index in range(len(gandalf_power)):\n",
    "    if(gandalf_power[index]>saruman_power[index]):\n",
    "        gandalf_wins=gandalf_wins+1\n",
    "        saruman_wins=0\n",
    "    if(gandalf[index]<saruman[index]):\n",
    "        saruman_wins=saruman_wins+1\n",
    "        gandalf_wins=0\n",
    "    \n",
    "    if gandalf_wins==3: \n",
    "        print(\"Gandalf Wins\")\n",
    "        break\n",
    "        \n",
    "    if saruman_wins==3: \n",
    "        print(\"Saruman Wins\")\n",
    "        break\n",
    "        \n",
    "## checking if it is Tie    \n",
    "if(gandalf_wins!=3 and saruman_wins!=3): print(\"Tie\")"
   ]
  },
  {
   "cell_type": "code",
   "execution_count": 9,
   "id": "3bd1b0fb",
   "metadata": {},
   "outputs": [
    {
     "name": "stdout",
     "output_type": "stream",
     "text": [
      "39.0\n",
      "30.5\n"
     ]
    }
   ],
   "source": [
    "# 5. Find the average spell power of Gandalf and Saruman.\n",
    "\n",
    "import numpy as np\n",
    "print(np.mean(gandalf_power))\n",
    "print(np.mean(saruman_power))"
   ]
  },
  {
   "cell_type": "code",
   "execution_count": 10,
   "id": "8f11db30",
   "metadata": {},
   "outputs": [
    {
     "name": "stdout",
     "output_type": "stream",
     "text": [
      "15.132745950421556\n",
      "15.56438241627338\n"
     ]
    }
   ],
   "source": [
    "# 6. Find the standard deviation of the spell power of Gandalf and Saruman.\n",
    "\n",
    "print(np.std(gandalf_power))\n",
    "print(np.std(saruman_power))"
   ]
  },
  {
   "cell_type": "code",
   "execution_count": null,
   "id": "9e625527",
   "metadata": {},
   "outputs": [],
   "source": []
  }
 ],
 "metadata": {
  "kernelspec": {
   "display_name": "Python 3",
   "language": "python",
   "name": "python3"
  },
  "language_info": {
   "codemirror_mode": {
    "name": "ipython",
    "version": 3
   },
   "file_extension": ".py",
   "mimetype": "text/x-python",
   "name": "python",
   "nbconvert_exporter": "python",
   "pygments_lexer": "ipython3",
   "version": "3.8.8"
  }
 },
 "nbformat": 4,
 "nbformat_minor": 5
}
