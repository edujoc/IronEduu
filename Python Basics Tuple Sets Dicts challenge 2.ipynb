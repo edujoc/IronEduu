{
 "cells": [
  {
   "cell_type": "code",
   "execution_count": 1,
   "id": "6f7b5812",
   "metadata": {},
   "outputs": [],
   "source": [
    "# Challenge 2: Sets\n",
    "\n",
    "# First, import the Python random libary\n",
    "\n",
    "import random"
   ]
  },
  {
   "cell_type": "code",
   "execution_count": 2,
   "id": "00de158c",
   "metadata": {},
   "outputs": [
    {
     "name": "stdout",
     "output_type": "stream",
     "text": [
      "[94, 6, 57, 55, 56, 49, 30, 63, 80, 7, 34, 29, 35, 86, 16, 15, 79, 42, 65, 84, 92, 67, 10, 90, 40, 81, 82, 70, 0, 95, 78, 8, 53, 5, 38, 20, 59, 99, 73, 12, 85, 75, 77, 31, 48, 52, 18, 61, 72, 24, 21, 25, 69, 9, 44, 68, 47, 27, 74, 97, 1, 39, 19, 13, 32, 60, 76, 93, 14, 50, 28, 91, 36, 87, 100, 83, 58, 62, 51, 89]\n"
     ]
    }
   ],
   "source": [
    "# In the cell below, create a list named sample_list_1 with 80 random values.¶ Requirements: Each value is an integer falling between 0 and 100. Each value in the list is unique. Print sample_list_1 to review its values Hint: use random.sample (reference).\n",
    "\n",
    "sample_list_1 = random.sample(range(0, 101), 80)\n",
    "\n",
    "print(sample_list_1)"
   ]
  },
  {
   "cell_type": "code",
   "execution_count": 3,
   "id": "b04961af",
   "metadata": {},
   "outputs": [
    {
     "data": {
      "text/plain": [
       "80"
      ]
     },
     "execution_count": 3,
     "metadata": {},
     "output_type": "execute_result"
    }
   ],
   "source": [
    "# Convert sample_list_1 to a set called set1. Print the length of the set. Is its length still 80?\n",
    "\n",
    "set1 = set(sample_list_1)\n",
    "\n",
    "len(set1)"
   ]
  },
  {
   "cell_type": "code",
   "execution_count": 4,
   "id": "be67c22f",
   "metadata": {},
   "outputs": [
    {
     "data": {
      "text/plain": [
       "{0,\n",
       " 1,\n",
       " 5,\n",
       " 6,\n",
       " 7,\n",
       " 8,\n",
       " 9,\n",
       " 10,\n",
       " 12,\n",
       " 13,\n",
       " 14,\n",
       " 15,\n",
       " 16,\n",
       " 18,\n",
       " 19,\n",
       " 20,\n",
       " 21,\n",
       " 24,\n",
       " 25,\n",
       " 27,\n",
       " 28,\n",
       " 29,\n",
       " 30,\n",
       " 31,\n",
       " 32,\n",
       " 34,\n",
       " 35,\n",
       " 36,\n",
       " 38,\n",
       " 39,\n",
       " 40,\n",
       " 42,\n",
       " 44,\n",
       " 47,\n",
       " 48,\n",
       " 49,\n",
       " 50,\n",
       " 51,\n",
       " 52,\n",
       " 53,\n",
       " 55,\n",
       " 56,\n",
       " 57,\n",
       " 58,\n",
       " 59,\n",
       " 60,\n",
       " 61,\n",
       " 62,\n",
       " 63,\n",
       " 65,\n",
       " 67,\n",
       " 68,\n",
       " 69,\n",
       " 70,\n",
       " 72,\n",
       " 73,\n",
       " 74,\n",
       " 75,\n",
       " 76,\n",
       " 77,\n",
       " 78,\n",
       " 79,\n",
       " 80,\n",
       " 81,\n",
       " 82,\n",
       " 83,\n",
       " 84,\n",
       " 85,\n",
       " 86,\n",
       " 87,\n",
       " 89,\n",
       " 90,\n",
       " 91,\n",
       " 92,\n",
       " 93,\n",
       " 94,\n",
       " 95,\n",
       " 97,\n",
       " 99,\n",
       " 100}"
      ]
     },
     "execution_count": 4,
     "metadata": {},
     "output_type": "execute_result"
    }
   ],
   "source": [
    "set1\n"
   ]
  },
  {
   "cell_type": "code",
   "execution_count": 5,
   "id": "b7097cd6",
   "metadata": {},
   "outputs": [
    {
     "name": "stdout",
     "output_type": "stream",
     "text": [
      "[69, 48, 70, 70, 7, 93, 43, 2, 86, 49, 57, 6, 39, 21, 38, 91, 76, 30, 30, 75, 23, 61, 81, 27, 0, 40, 20, 26, 6, 15, 84, 51, 93, 100, 71, 58, 84, 92, 22, 17, 6, 0, 98, 28, 45, 90, 80, 68, 90, 31, 73, 99, 51, 49, 47, 33, 46, 99, 52, 100, 52, 28, 1, 96, 92, 74, 61, 28, 64, 40, 69, 56, 61, 39, 71, 22, 5, 21, 84, 60]\n",
      "80\n"
     ]
    }
   ],
   "source": [
    "# Create another list named sample_list_2 with 80 random values. Requirements:\n",
    "\n",
    "#Each value is an integer falling between 0 and 100.\n",
    "#The values in the list don't have to be unique.\n",
    "#Hint: Use a FOR loop.\n",
    "\n",
    "sample_list_2 = [random.randint(0, 100) for k in range(80)]\n",
    "\n",
    "print(sample_list_2)\n",
    "\n",
    "print(len(sample_list_2))"
   ]
  },
  {
   "cell_type": "code",
   "execution_count": 6,
   "id": "b003c532",
   "metadata": {},
   "outputs": [
    {
     "data": {
      "text/plain": [
       "55"
      ]
     },
     "execution_count": 6,
     "metadata": {},
     "output_type": "execute_result"
    }
   ],
   "source": [
    "# Convert sample_list_2 to a set called set2. Print the length of the set. Is its length still 80?\n",
    "set2 = set(sample_list_2)\n",
    "\n",
    "len(set2)"
   ]
  },
  {
   "cell_type": "code",
   "execution_count": 7,
   "id": "73dc169b",
   "metadata": {},
   "outputs": [
    {
     "name": "stdout",
     "output_type": "stream",
     "text": [
      "{8, 9, 10, 12, 13, 14, 16, 18, 19, 24, 25, 29, 32, 34, 35, 36, 42, 44, 50, 53, 55, 59, 62, 63, 65, 67, 72, 77, 78, 79, 82, 83, 85, 87, 89, 94, 95, 97}\n"
     ]
    }
   ],
   "source": [
    "# Identify the elements present in set1 but not in set2. Assign the elements to a new set named set3.¶\n",
    "\n",
    "set3 = set1 - set2\n",
    "\n",
    "print(set3)\n"
   ]
  },
  {
   "cell_type": "code",
   "execution_count": 8,
   "id": "6867793c",
   "metadata": {},
   "outputs": [
    {
     "name": "stdout",
     "output_type": "stream",
     "text": [
      "{64, 33, 2, 96, 98, 71, 43, 45, 46, 17, 22, 23, 26}\n"
     ]
    }
   ],
   "source": [
    "# Identify the elements present in set2 but not in set1. Assign the elements to a new set named set4.¶\n",
    "\n",
    "set4 = set2 - set1\n",
    "\n",
    "print(set4)"
   ]
  },
  {
   "cell_type": "code",
   "execution_count": 9,
   "id": "0e596316",
   "metadata": {},
   "outputs": [
    {
     "name": "stdout",
     "output_type": "stream",
     "text": [
      "{0, 1, 5, 6, 7, 15, 20, 21, 27, 28, 30, 31, 38, 39, 40, 47, 48, 49, 51, 52, 56, 57, 58, 60, 61, 68, 69, 70, 73, 74, 75, 76, 80, 81, 84, 86, 90, 91, 92, 93, 99, 100}\n"
     ]
    }
   ],
   "source": [
    "# Now Identify the elements shared between set1 and set2. Assign the elements to a new set named set5.\n",
    "\n",
    "set5 = set1 & set2\n",
    "\n",
    "print(set5)"
   ]
  },
  {
   "cell_type": "code",
   "execution_count": 10,
   "id": "21b72cc9",
   "metadata": {},
   "outputs": [
    {
     "data": {
      "text/plain": [
       "True"
      ]
     },
     "execution_count": 10,
     "metadata": {},
     "output_type": "execute_result"
    }
   ],
   "source": [
    "# What is the relationship among the following values:\n",
    "# len(set1)\n",
    "# len(set2)\n",
    "# len(set3)\n",
    "# len(set4)\n",
    "# len(set5)\n",
    "# Use a math formular to represent that relationship. Test your formular with Python code.\n",
    "\n",
    "len(set3) + len(set4) + len(set5) * 2 == len(set1) + len(set2)"
   ]
  },
  {
   "cell_type": "code",
   "execution_count": 11,
   "id": "3dfb1e54",
   "metadata": {},
   "outputs": [],
   "source": [
    "# Create an empty set called set6.\n",
    "set6 = set()"
   ]
  },
  {
   "cell_type": "code",
   "execution_count": 12,
   "id": "2e1f744b",
   "metadata": {},
   "outputs": [],
   "source": [
    "# Add set3 and set5 to set6 using the Python Set update method.\n",
    "set6.update(set3, set5)"
   ]
  },
  {
   "cell_type": "code",
   "execution_count": 13,
   "id": "d94b4282",
   "metadata": {},
   "outputs": [
    {
     "data": {
      "text/plain": [
       "True"
      ]
     },
     "execution_count": 13,
     "metadata": {},
     "output_type": "execute_result"
    }
   ],
   "source": [
    "# Check if set1 and set6 are equal.\n",
    "set6 == set1"
   ]
  },
  {
   "cell_type": "code",
   "execution_count": 14,
   "id": "e6341fa9",
   "metadata": {},
   "outputs": [
    {
     "name": "stdout",
     "output_type": "stream",
     "text": [
      "False\n"
     ]
    },
    {
     "data": {
      "text/plain": [
       "True"
      ]
     },
     "execution_count": 14,
     "metadata": {},
     "output_type": "execute_result"
    }
   ],
   "source": [
    "# Check if set1 contains set2 using the Python Set issubset method. Then check if set1 contains set3.*\n",
    "\n",
    "print(set2.issubset(set1))\n",
    "\n",
    "set3.issubset(set1)"
   ]
  },
  {
   "cell_type": "code",
   "execution_count": 15,
   "id": "2f8d7c1c",
   "metadata": {},
   "outputs": [
    {
     "data": {
      "text/plain": [
       "True"
      ]
     },
     "execution_count": 15,
     "metadata": {},
     "output_type": "execute_result"
    }
   ],
   "source": [
    "# Using the Python Set union method, aggregate set3, set4, and set5. Then aggregate set1 and set2.\n",
    "# Check if the aggregated values are equal.\n",
    "\n",
    "set3.union(set4, set5) == set1.union(set2)"
   ]
  },
  {
   "cell_type": "code",
   "execution_count": 16,
   "id": "057edc48",
   "metadata": {},
   "outputs": [
    {
     "name": "stdout",
     "output_type": "stream",
     "text": [
      "0\n"
     ]
    }
   ],
   "source": [
    "# Using the pop method, remove the first element from set1.\n",
    "\n",
    "s = set1.pop()\n",
    "\n",
    "print(s)"
   ]
  },
  {
   "cell_type": "code",
   "execution_count": 17,
   "id": "0199629a",
   "metadata": {},
   "outputs": [
    {
     "name": "stdout",
     "output_type": "stream",
     "text": [
      "{5, 6, 7, 8, 10, 12, 13, 14, 15, 16, 18, 20, 24, 25, 27, 28, 30, 32, 34, 35, 36, 38, 40, 42, 44, 47, 48, 50, 52, 53, 55, 56, 57, 58, 60, 62, 63, 65, 67, 68, 70, 72, 73, 74, 75, 76, 77, 78, 80, 82, 83, 84, 85, 86, 87, 90, 92, 93, 94, 95, 97, 100}\n"
     ]
    }
   ],
   "source": [
    "# Remove every element in the following list from set1 if they are present in the set. Print the remaining elements.\n",
    "\n",
    "# list_to_remove = [1, 9, 11, 19, 21, 29, 31, 39, 41, 49, 51, 59, 61, 69, 71, 79, 81, 89, 91, 99]\n",
    "\n",
    "list_to_remove = [1, 9, 11, 19, 21, 29, 31, 39, 41, 49, 51, 59, 61, 69, 71, 79, 81, 89, 91, 99]\n",
    "\n",
    "for n in list_to_remove:\n",
    "    if n in set1:\n",
    "        set1.remove(n)\n",
    "\n",
    "print(set1)"
   ]
  },
  {
   "cell_type": "code",
   "execution_count": null,
   "id": "4aa7c55a",
   "metadata": {},
   "outputs": [],
   "source": []
  }
 ],
 "metadata": {
  "kernelspec": {
   "display_name": "Python 3",
   "language": "python",
   "name": "python3"
  },
  "language_info": {
   "codemirror_mode": {
    "name": "ipython",
    "version": 3
   },
   "file_extension": ".py",
   "mimetype": "text/x-python",
   "name": "python",
   "nbconvert_exporter": "python",
   "pygments_lexer": "ipython3",
   "version": "3.8.8"
  }
 },
 "nbformat": 4,
 "nbformat_minor": 5
}
