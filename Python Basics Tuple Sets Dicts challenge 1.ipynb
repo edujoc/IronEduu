{
 "cells": [
  {
   "cell_type": "code",
   "execution_count": 2,
   "id": "7a3d30bd",
   "metadata": {},
   "outputs": [],
   "source": [
    "# Challenge 1: Tuples¶\n",
    "\n",
    "tup = (\"I\",)"
   ]
  },
  {
   "cell_type": "code",
   "execution_count": 3,
   "id": "a5e2d4bc",
   "metadata": {},
   "outputs": [
    {
     "data": {
      "text/plain": [
       "tuple"
      ]
     },
     "execution_count": 3,
     "metadata": {},
     "output_type": "execute_result"
    }
   ],
   "source": [
    "# Print the type of tup.\n",
    "\n",
    "type(tup)"
   ]
  },
  {
   "cell_type": "code",
   "execution_count": 4,
   "id": "af7c5a23",
   "metadata": {},
   "outputs": [
    {
     "data": {
      "text/plain": [
       "('I', 'r', 'o')"
      ]
     },
     "execution_count": 4,
     "metadata": {},
     "output_type": "execute_result"
    }
   ],
   "source": [
    "# Now try to append the following elements to tup. \"r\", \"o\", \"n\", \"h\", \"a\", \"c\", \"k',\n",
    "\n",
    "updated_tup=tup +(\"r\",\"o\",)\n",
    "updated_tup\n",
    "\n",
    "##tuple is immutable"
   ]
  },
  {
   "cell_type": "code",
   "execution_count": 6,
   "id": "4f2e9799",
   "metadata": {},
   "outputs": [],
   "source": [
    "#How about re-assign a new value to an existing tuple? Re-assign the following elements to tup. Are you able to do it? Explain.\n",
    "\n",
    "tup = (\"I\", \"r\", \"o\", \"n\", \"h\", \"a\", \"c\", \"k\")"
   ]
  },
  {
   "cell_type": "code",
   "execution_count": 7,
   "id": "8d9cfaa4",
   "metadata": {},
   "outputs": [
    {
     "name": "stdout",
     "output_type": "stream",
     "text": [
      "('I', 'r', 'o', 'n')\n",
      "('h', 'a', 'c', 'k')\n"
     ]
    }
   ],
   "source": [
    "#Split tup into tup1 and tup2 with 4 elements in each. tup1 should be (\"I\", \"r\", \"o\", \"n\") and tup2 should be (\"h\", \"a\", \"c\", \"k\"). Hint: use positive index numbers for tup1 assignment and use negative index numbers for tup2 assignment. Positive index numbers count from the beginning whereas negative index numbers count from the end of the sequence. Print tup1 and tup2.\n",
    "\n",
    "tup1 = tup[:4]\n",
    "\n",
    "tup2 = tup[-4:]\n",
    "\n",
    "print(tup1)\n",
    "\n",
    "print(tup2)"
   ]
  },
  {
   "cell_type": "code",
   "execution_count": 8,
   "id": "1de63b20",
   "metadata": {},
   "outputs": [
    {
     "name": "stdout",
     "output_type": "stream",
     "text": [
      "('I', 'r', 'o', 'n', 'h', 'a', 'c', 'k')\n",
      "True\n"
     ]
    }
   ],
   "source": [
    "# Add tup1 and tup2 into tup3 using the + operator. Print tup3 and check if tup3 equals to tup.\n",
    "\n",
    "tup3 = tup1 + tup2\n",
    "\n",
    "print(tup3)\n",
    "\n",
    "print(tup == tup3)"
   ]
  },
  {
   "cell_type": "code",
   "execution_count": 9,
   "id": "5470b092",
   "metadata": {},
   "outputs": [
    {
     "data": {
      "text/plain": [
       "True"
      ]
     },
     "execution_count": 9,
     "metadata": {},
     "output_type": "execute_result"
    }
   ],
   "source": [
    "# Count the number of elements in tup1 and tup2. Add the two counts together and check if the sum is the same as the count of tup3\n",
    "\n",
    "len(tup1) + len(tup2) == len(tup3)"
   ]
  },
  {
   "cell_type": "code",
   "execution_count": 10,
   "id": "861f76cd",
   "metadata": {},
   "outputs": [
    {
     "data": {
      "text/plain": [
       "4"
      ]
     },
     "execution_count": 10,
     "metadata": {},
     "output_type": "execute_result"
    }
   ],
   "source": [
    "# What is the index number of \"h\" in tup3?\n",
    "\n",
    "tup3.index(\"h\")"
   ]
  },
  {
   "cell_type": "code",
   "execution_count": 11,
   "id": "6b2f1eb4",
   "metadata": {},
   "outputs": [
    {
     "name": "stdout",
     "output_type": "stream",
     "text": [
      "True\n",
      "False\n",
      "True\n",
      "False\n",
      "False\n"
     ]
    }
   ],
   "source": [
    "# Now, use a FOR loop to check whether each letter in the following list is present in tup3:¶ letters = [\"a\", \"b\", \"c\", \"d\", \"e\"] For each letter you check, print True if it is present in tup3 otherwise print False. Hint: you only need to loop the list letters. You don't need to loop the tuple tup3 because there is a Python operator in you can use. See reference.\n",
    "\n",
    "letters = [\"a\", \"b\", \"c\", \"d\", \"e\"]\n",
    "\n",
    "for letter in letters:\n",
    "    print(letter in tup3)"
   ]
  },
  {
   "cell_type": "code",
   "execution_count": 12,
   "id": "c6ddc96b",
   "metadata": {},
   "outputs": [
    {
     "name": "stdout",
     "output_type": "stream",
     "text": [
      "1\n",
      "0\n",
      "1\n",
      "0\n",
      "0\n"
     ]
    }
   ],
   "source": [
    "# How many times does each letter in letters appear in tup3? Print out the number of occurrence of each letter.\n",
    "\n",
    "for letter in letters:\n",
    "    print(tup3.count(letter))"
   ]
  },
  {
   "cell_type": "code",
   "execution_count": null,
   "id": "ff393d2e",
   "metadata": {},
   "outputs": [],
   "source": []
  }
 ],
 "metadata": {
  "kernelspec": {
   "display_name": "Python 3",
   "language": "python",
   "name": "python3"
  },
  "language_info": {
   "codemirror_mode": {
    "name": "ipython",
    "version": 3
   },
   "file_extension": ".py",
   "mimetype": "text/x-python",
   "name": "python",
   "nbconvert_exporter": "python",
   "pygments_lexer": "ipython3",
   "version": "3.8.8"
  }
 },
 "nbformat": 4,
 "nbformat_minor": 5
}
