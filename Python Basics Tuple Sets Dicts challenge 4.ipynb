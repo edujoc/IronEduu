{
 "cells": [
  {
   "cell_type": "code",
   "execution_count": 1,
   "id": "d91bf41a",
   "metadata": {},
   "outputs": [],
   "source": [
    "# Challenge 4: Nested dictionaries\n",
    "# Here are some keys and values. Use them to build a dictionary called numbers_dct\n",
    "\n",
    "keys = ['hundred', 'twohundred', 'threehundred']\n",
    "values = [10, 20, 30]"
   ]
  },
  {
   "cell_type": "code",
   "execution_count": 2,
   "id": "ad3990be",
   "metadata": {},
   "outputs": [],
   "source": [
    "keys = ['hundred', 'twohundred', 'threehundred']\n",
    "values = [10, 20, 30]\n",
    "\n",
    "numbers_dct = {key:value for key, value in zip(keys,values)}"
   ]
  },
  {
   "cell_type": "code",
   "execution_count": 3,
   "id": "75ccc03b",
   "metadata": {},
   "outputs": [],
   "source": [
    "# Here are two dictionaries. Merge their entries to a third dictionary\n",
    "\n",
    "dict1 = {'One': 1, 'Two': 2, 'Six': 6}\n",
    "dict2 = {'Thirty': 30, 'Fourty': 40, 'Fifty': 50}"
   ]
  },
  {
   "cell_type": "code",
   "execution_count": 4,
   "id": "afa85fe2",
   "metadata": {},
   "outputs": [
    {
     "data": {
      "text/plain": [
       "{'One': 1, 'Two': 2, 'Six': 6, 'Thirty': 30, 'Fourty': 40, 'Fifty': 50}"
      ]
     },
     "execution_count": 4,
     "metadata": {},
     "output_type": "execute_result"
    }
   ],
   "source": [
    "dict1 = {'One': 1, 'Two': 2, 'Six': 6}\n",
    "dict2 = {'Thirty': 30, 'Fourty': 40, 'Fifty': 50}\n",
    "\n",
    "{**dict1, **dict2}"
   ]
  },
  {
   "cell_type": "code",
   "execution_count": 5,
   "id": "193a214d",
   "metadata": {},
   "outputs": [],
   "source": [
    "# Nested dictionaries\n",
    "\n",
    "# Here comes a bigger, nested dictionary. Store Martin's French grades in a variable called martins_french by navigating to the value using keys and values. Remember, while you drill down the structure of the dictionary and you encounter a new dictionary, you can always use .keys() and .values() to not loose orientation.\n",
    "\n",
    "\n",
    "sampleDict = {\n",
    "    \"class\":{\n",
    "        \"student_list\":{\n",
    "            \"Anna\":{\n",
    "                \"marks\":{\n",
    "                    \"physics\":[70, 20, 100, 20],\n",
    "                    \"history\":[80,10,55,35],\n",
    "                    \"math\":[100, 90, 70, 35],\n",
    "                }\n",
    "            },\n",
    "            \"Martin\":{\n",
    "                \"marks\":{\n",
    "                    \"french\":[20, 10, 35, 45],\n",
    "                    \"spanish\":[40, 75, 50, 90],\n",
    "                    \"math\": [90,85, 90, 95],\n",
    "                }\n",
    "            },\n",
    "            \"Richard\":{\n",
    "                \"marks\":{\n",
    "                    \"physics\":[10, 10, 0, 90],\n",
    "                    \"biology\":[50, 50, 70, 75],\n",
    "                    \"math\":[90, 70, 50, 40],\n",
    "                }\n",
    "            }\n",
    "        }\n",
    "    }\n",
    "}"
   ]
  },
  {
   "cell_type": "code",
   "execution_count": 6,
   "id": "97b68244",
   "metadata": {},
   "outputs": [],
   "source": [
    "martins_french = sampleDict['class']['student_list']['Martin']['marks']['french']"
   ]
  },
  {
   "cell_type": "code",
   "execution_count": 7,
   "id": "56677852",
   "metadata": {},
   "outputs": [
    {
     "data": {
      "text/plain": [
       "61.25"
      ]
     },
     "execution_count": 7,
     "metadata": {},
     "output_type": "execute_result"
    }
   ],
   "source": [
    "# Calculate the mean of Richard's biology's grades\n",
    "\n",
    "import numpy as np\n",
    "np.mean(sampleDict['class']['student_list']['Richard']['marks']['biology'])"
   ]
  },
  {
   "cell_type": "code",
   "execution_count": 8,
   "id": "4ec486dd",
   "metadata": {},
   "outputs": [
    {
     "data": {
      "text/plain": [
       "['Anna', 'Martin', 'Richard']"
      ]
     },
     "execution_count": 8,
     "metadata": {},
     "output_type": "execute_result"
    }
   ],
   "source": [
    "# Return a list of all the students\n",
    "\n",
    "list(sampleDict['class']['student_list'].keys())"
   ]
  },
  {
   "cell_type": "code",
   "execution_count": 9,
   "id": "9b6204d0",
   "metadata": {},
   "outputs": [
    {
     "data": {
      "text/plain": [
       "10"
      ]
     },
     "execution_count": 9,
     "metadata": {},
     "output_type": "execute_result"
    }
   ],
   "source": [
    "# Return Anna's 2nd grade in history\n",
    "\n",
    "sampleDict['class']['student_list']['Anna']['marks']['history'][1]"
   ]
  },
  {
   "cell_type": "code",
   "execution_count": 10,
   "id": "9e2a0bb4",
   "metadata": {},
   "outputs": [
    {
     "name": "stdout",
     "output_type": "stream",
     "text": [
      "100\n",
      "55\n",
      "70\n",
      "35\n",
      "50\n",
      "90\n",
      "0\n",
      "70\n",
      "50\n"
     ]
    }
   ],
   "source": [
    "# Return all the grades that are 3rd in the list for every subject for all the students\n",
    "\n",
    "# Use appropriate for loops and a print() statement\n",
    "\n",
    "for student in sampleDict['class']['student_list']:\n",
    "        for marks in sampleDict['class']['student_list'][student].values():\n",
    "            for subject_values in marks.values():\n",
    "                print(subject_values[2])"
   ]
  },
  {
   "cell_type": "code",
   "execution_count": 11,
   "id": "aeecd5b7",
   "metadata": {},
   "outputs": [
    {
     "data": {
      "text/plain": [
       "[70,\n",
       " 20,\n",
       " 100,\n",
       " 20,\n",
       " 80,\n",
       " 10,\n",
       " 55,\n",
       " 35,\n",
       " 100,\n",
       " 90,\n",
       " 70,\n",
       " 35,\n",
       " 20,\n",
       " 10,\n",
       " 35,\n",
       " 45,\n",
       " 40,\n",
       " 75,\n",
       " 50,\n",
       " 90,\n",
       " 90,\n",
       " 85,\n",
       " 90,\n",
       " 95,\n",
       " 10,\n",
       " 10,\n",
       " 0,\n",
       " 90,\n",
       " 50,\n",
       " 50,\n",
       " 70,\n",
       " 75,\n",
       " 90,\n",
       " 70,\n",
       " 50,\n",
       " 40]"
      ]
     },
     "execution_count": 11,
     "metadata": {},
     "output_type": "execute_result"
    }
   ],
   "source": [
    "# Get all the grades and store them in a list all_grades Calculate the mean (solution: 55.97)\n",
    "\n",
    "# You can of course use a modified version of your solution of the previous question.\n",
    "\n",
    "all_grades = []\n",
    "for student in sampleDict['class']['student_list']:\n",
    "        for marks in sampleDict['class']['student_list'][student].values():\n",
    "            for subject_values in marks.values():\n",
    "                for value in subject_values:\n",
    "                    all_grades.append(value)\n",
    "\n",
    "all_grades"
   ]
  },
  {
   "cell_type": "code",
   "execution_count": 12,
   "id": "04bca212",
   "metadata": {},
   "outputs": [
    {
     "data": {
      "text/plain": [
       "55.97222222222222"
      ]
     },
     "execution_count": 12,
     "metadata": {},
     "output_type": "execute_result"
    }
   ],
   "source": [
    "np.mean(all_grades)"
   ]
  },
  {
   "cell_type": "code",
   "execution_count": 13,
   "id": "7c462552",
   "metadata": {},
   "outputs": [
    {
     "data": {
      "text/plain": [
       "array([[<AxesSubplot:title={'center':'grades'}>]], dtype=object)"
      ]
     },
     "execution_count": 13,
     "metadata": {},
     "output_type": "execute_result"
    },
    {
     "data": {
      "image/png": "[encoded data removed]",
      "text/plain": [
       "<Figure size 432x288 with 1 Axes>"
      ]
     },
     "metadata": {
      "needs_background": "light"
     },
     "output_type": "display_data"
    }
   ],
   "source": [
    "# Save that list as a column in a pandas dataframe and plot a histogram with it\n",
    "\n",
    "import pandas as pd\n",
    "pd.DataFrame({'grades':all_grades}).hist()"
   ]
  },
  {
   "cell_type": "code",
   "execution_count": 15,
   "id": "71f960e3",
   "metadata": {},
   "outputs": [],
   "source": [
    "# Return all the students subjects. Watch out: We don't want repetitions!\n",
    "\n",
    "all_subjects = []\n",
    "for student in sampleDict['class']['student_list']:\n",
    "        for marks in sampleDict['class']['student_list'][student].values():\n",
    "            for subject in marks.keys():\n",
    "                all_subjects.append(subject)\n",
    "\n",
    "\n",
    "all_subjects = set(all_subjects)"
   ]
  },
  {
   "cell_type": "code",
   "execution_count": 16,
   "id": "f99034eb",
   "metadata": {},
   "outputs": [
    {
     "data": {
      "text/plain": [
       "[10, 10, 28, 90]"
      ]
     },
     "execution_count": 16,
     "metadata": {},
     "output_type": "execute_result"
    }
   ],
   "source": [
    "# Richard heard you're a data enthusiast and asks you to hack the school server and and replace his worst physics grade rounded to full integers (0) with the mean of his physics grades (he doesn't want to raise suspicion). Help him do that. Check wether your hack was successful by printing his physics grade\n",
    "\n",
    "r_physics_mean = round(np.mean(sampleDict['class']['student_list']['Richard']['marks']['physics']))\n",
    "sampleDict['class']['student_list']['Richard']['marks']['physics'][2] = r_physics_mean\n",
    "sampleDict['class']['student_list']['Richard']['marks']['physics']"
   ]
  },
  {
   "cell_type": "code",
   "execution_count": 17,
   "id": "5692993f",
   "metadata": {},
   "outputs": [],
   "source": [
    "# The hack was discovered! They found out it must have been Richard because his physics grade is not a multiple of 5 like all the other grades\n",
    "\n",
    "# Expell Richard (poor Richard!) by removing him from the dictionary. Use del. And print the resulting class dictionary.\n",
    "\n",
    "del sampleDict['class']['student_list']['Richard']"
   ]
  },
  {
   "cell_type": "code",
   "execution_count": 18,
   "id": "805bb749",
   "metadata": {},
   "outputs": [
    {
     "data": {
      "text/plain": [
       "{'class': {'student_list': {'Anna': {'marks': {'physics': [70, 20, 100, 20],\n",
       "     'history': [80, 10, 55, 35],\n",
       "     'math': [100, 90, 70, 35]}},\n",
       "   'Martin': {'marks': {'french': [20, 10, 35, 45],\n",
       "     'spanish': [40, 75, 50, 90],\n",
       "     'math': [90, 85, 90, 95]}}}}}"
      ]
     },
     "execution_count": 18,
     "metadata": {},
     "output_type": "execute_result"
    }
   ],
   "source": [
    "sampleDict"
   ]
  },
  {
   "cell_type": "code",
   "execution_count": null,
   "id": "76d00bcb",
   "metadata": {},
   "outputs": [],
   "source": []
  }
 ],
 "metadata": {
  "kernelspec": {
   "display_name": "Python 3",
   "language": "python",
   "name": "python3"
  },
  "language_info": {
   "codemirror_mode": {
    "name": "ipython",
    "version": 3
   },
   "file_extension": ".py",
   "mimetype": "text/x-python",
   "name": "python",
   "nbconvert_exporter": "python",
   "pygments_lexer": "ipython3",
   "version": "3.8.8"
  }
 },
 "nbformat": 4,
 "nbformat_minor": 5
}
